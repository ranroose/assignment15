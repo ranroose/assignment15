{
 "cells": [
  {
   "cell_type": "code",
   "execution_count": 4,
   "id": "a88d6f27-ca57-4cbd-a71c-c1a949bf4e70",
   "metadata": {
    "tags": []
   },
   "outputs": [],
   "source": [
    "def rod_cutting(n, prices):\n",
    "    dp = [0] * (n + 1)  \n",
    "    cuts = [0] * (n + 1) \n",
    "    for i in range(1, n + 1):\n",
    "        max_value = -float('inf')\n",
    "        for j in range(1, i + 1):\n",
    "            if j <= len(prices):\n",
    "                if max_value < prices[j - 1] + dp[i - j]:\n",
    "                    max_value = prices[j - 1] + dp[i - j]\n",
    "                    cuts[i] = j\n",
    "        dp[i] = max_value\n",
    "\n",
    "    lengths = []\n",
    "    while n > 0:\n",
    "        lengths.append(cuts[n])\n",
    "        n -= cuts[n]\n",
    "\n",
    "    return lengths, dp[-1]\n"
   ]
  },
  {
   "cell_type": "code",
   "execution_count": 3,
   "id": "ea50f1c8-aef8-4037-ac69-388a2db973ce",
   "metadata": {
    "tags": []
   },
   "outputs": [
    {
     "data": {
      "text/plain": [
       "([2, 6], 22)"
      ]
     },
     "execution_count": 3,
     "metadata": {},
     "output_type": "execute_result"
    }
   ],
   "source": [
    "rod_cutting(8, [1, 5, 8, 9, 10, 17, 17, 20])\n"
   ]
  },
  {
   "cell_type": "code",
   "execution_count": null,
   "id": "7f660eaf-6085-43fa-b47a-299079fc27b8",
   "metadata": {},
   "outputs": [],
   "source": []
  }
 ],
 "metadata": {
  "kernelspec": {
   "display_name": "Python 3 (ipykernel)",
   "language": "python",
   "name": "python3"
  },
  "language_info": {
   "codemirror_mode": {
    "name": "ipython",
    "version": 3
   },
   "file_extension": ".py",
   "mimetype": "text/x-python",
   "name": "python",
   "nbconvert_exporter": "python",
   "pygments_lexer": "ipython3",
   "version": "3.10.8"
  }
 },
 "nbformat": 4,
 "nbformat_minor": 5
}
